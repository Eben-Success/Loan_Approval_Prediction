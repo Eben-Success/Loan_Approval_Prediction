{
 "cells": [
  {
   "attachments": {},
   "cell_type": "markdown",
   "metadata": {},
   "source": [
    "# Loan Approal Prediction\n",
    "\n",
    "\n",
    "#### Problem Statement\n",
    "\n",
    ">- Banks and financial institutions face the challenge of accurately assessing the risk of a borrower approval on a loan, which can result in a loss of revenue and damage to their reputation. \n",
    "\n",
    ">- Identifying potential fraud or misrepresentation by borrowers is also a significant concern for these institutions.\n",
    "\n",
    ">- Therefore, there is a need to develop a loan  approval prediction model using Weka that can analyze a borrower's data and provide accurate predictions on the likelihood of being granted a loan.\n",
    "\n",
    "* [Link to Dataset](https://drive.google.com/drive/folders/1V0oCSnpKhxIwV4i-o_Af6OxGUjiJn5KQ?usp=sharing)"
   ]
  },
  {
   "attachments": {},
   "cell_type": "markdown",
   "metadata": {},
   "source": [
    "### Import Libraries"
   ]
  },
  {
   "cell_type": "markdown",
   "metadata": {},
   "source": []
  }
 ],
 "metadata": {
  "language_info": {
   "name": "python"
  },
  "orig_nbformat": 4
 },
 "nbformat": 4,
 "nbformat_minor": 2
}
